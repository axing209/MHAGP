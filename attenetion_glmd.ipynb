{
 "cells": [
  {
   "cell_type": "code",
   "execution_count": 1,
   "metadata": {},
   "outputs": [
    {
     "name": "stdout",
     "output_type": "stream",
     "text": [
      "WARNING:tensorflow:From D:\\miniconda\\envs\\deeplearn\\lib\\site-packages\\tensorflow_core\\python\\compat\\v2_compat.py:65: disable_resource_variables (from tensorflow.python.ops.variable_scope) is deprecated and will be removed in a future version.\n",
      "Instructions for updating:\n",
      "non-resource variables are not supported in the long term\n"
     ]
    }
   ],
   "source": [
    "import torch\n",
    "import torch.nn as nn\n",
    "import torch.nn.functional as F\n",
    "from torch.autograd import Variable\n",
    "import torch.optim as optim\n",
    "import numpy as np\n",
    "\n",
    "from sklearn.model_selection import StratifiedKFold\n",
    "from sklearn.metrics import roc_auc_score\n",
    "from sklearn.metrics import average_precision_score\n",
    "from sklearn.metrics import precision_recall_curve\n",
    "from sklearn.metrics import auc\n",
    "from sklearn.metrics import accuracy_score\n",
    "from sklearn.metrics import roc_curve\n",
    "from sklearn.metrics import recall_score\n",
    "\n",
    "import matplotlib.pyplot as plt\n",
    "%matplotlib inline\n",
    "\n",
    "import random\n",
    "import copy\n",
    "from util import normalization"
   ]
  },
  {
   "cell_type": "code",
   "execution_count": 2,
   "metadata": {},
   "outputs": [
    {
     "name": "stdout",
     "output_type": "stream",
     "text": [
      "(11392, 128) (11392, 128) (11392, 128)\n"
     ]
    }
   ],
   "source": [
    "import warnings\n",
    "warnings.filterwarnings('ignore')\n",
    "\n",
    "X_train_gd = normalization(np.load('./data/X_train_gd.npy'))\n",
    "X_train_gmd = normalization(np.load('./data/X_train_gmd.npy'))\n",
    "X_train_gld = normalization(np.load('./data/X_train_gld.npy')) \n",
    "\n",
    "X_test_gd = normalization(np.load('./data/X_test_gd.npy'))\n",
    "X_test_gmd = normalization(np.load('./data/X_test_gmd.npy'))\n",
    "X_test_gld = normalization(np.load('./data/X_test_gld.npy'))\n",
    "\n",
    "X_gd = np.concatenate((X_train_gd,X_test_gd))\n",
    "X_gmd = np.concatenate((X_train_gmd,X_test_gmd))\n",
    "X_gld = np.concatenate((X_train_gld,X_test_gld))\n",
    "print(X_gd.shape,X_gmd.shape,X_gld.shape)"
   ]
  },
  {
   "cell_type": "markdown",
   "metadata": {},
   "source": [
    "(5394, 512)"
   ]
  },
  {
   "cell_type": "code",
   "execution_count": 3,
   "metadata": {},
   "outputs": [
    {
     "data": {
      "text/plain": [
       "((9112, 1), (2280, 1))"
      ]
     },
     "execution_count": 3,
     "metadata": {},
     "output_type": "execute_result"
    }
   ],
   "source": [
    "y_train=open('./data/y_train.txt').read().split('\\n')[:-1]      # 获取训练样本标签(9112, 1)\n",
    "y_train=[int(y) for y in y_train]\n",
    "y_train=np.array(y_train)\n",
    "y_train=y_train.reshape(y_train.shape[0],1)\n",
    "\n",
    "y_test=open('./data/y_test.txt').read().split('\\n')[:-1]      # 获取测试样本标签(2280, 1)\n",
    "y_test=[int(y) for y in y_test]\n",
    "y_test = np.array(y_test)\n",
    "y_test =y_test.reshape(y_test.shape[0],1)\n",
    "\n",
    "y_train.shape, y_test.shape"
   ]
  },
  {
   "cell_type": "code",
   "execution_count": 4,
   "metadata": {},
   "outputs": [
    {
     "data": {
      "text/plain": [
       "(torch.Size([11392, 128]),\n",
       " torch.Size([11392, 128]),\n",
       " torch.Size([11392, 128]),\n",
       " torch.Size([11392, 1]))"
      ]
     },
     "execution_count": 4,
     "metadata": {},
     "output_type": "execute_result"
    }
   ],
   "source": [
    "X_gd = np.concatenate((X_train_gd,X_test_gd))\n",
    "X_gmd = np.concatenate((X_train_gmd,X_test_gmd))\n",
    "X_gld = np.concatenate((X_train_gld,X_test_gld))\n",
    "\n",
    "X_gd_all =np.copy(X_gd)              #X_all = 训练集+测试集 =(11392, 128)\n",
    "X_gd_all =normalization(X_gd_all)\n",
    "X_gd_all = torch.from_numpy(X_gd_all).type(torch.FloatTensor)\n",
    "\n",
    "X_gmd_all =np.copy(X_gmd)   \n",
    "X_gmd_all =normalization(X_gmd_all)\n",
    "X_gmd_all = torch.from_numpy(X_gmd_all).type(torch.FloatTensor)\n",
    "\n",
    "X_gld_all =np.copy(X_gld)  \n",
    "X_gld_all =normalization(X_gld_all)\n",
    "X_gld_all = torch.from_numpy(X_gld_all).type(torch.FloatTensor)\n",
    "\n",
    "\n",
    "y_all =np.concatenate((y_train,y_test))       # y_all = [11392, 1]\n",
    "y_all =torch.from_numpy(y_all).type(torch.FloatTensor)\n",
    "\n",
    "X_gd_all.size(),X_gmd_all.size(),X_gld_all.size(),y_all.size()"
   ]
  },
  {
   "cell_type": "code",
   "execution_count": 57,
   "metadata": {},
   "outputs": [],
   "source": [
    "class LDAClassifier(nn.Module):\n",
    "#     def __init__(self,inp_size):\n",
    "    def __init__(self,inp_size,inp_size_bak1,inp_size_bak2):\n",
    "        super(LDAClassifier,self).__init__()\n",
    "        #         self.att = nn.Linear(inp_size,inp_size)\n",
    "        self.fc1 = nn.Linear(inp_size, 128)\n",
    "        self.relu = nn.ReLU()\n",
    "        self.dout = nn.Dropout(0.2)\n",
    "        self.fc2 = nn.Linear(128, 128)\n",
    "        self.out = nn.Linear(128, 1)\n",
    "        self.out_act = nn.Sigmoid()\n",
    "        self.tanh = nn.Tanh()\n",
    "        self.softmax = nn.Softmax()\n",
    "        \n",
    "        self.multihead_attn = torch.nn.MultiheadAttention(embed_dim = 128, num_heads =8 )\n",
    "        self.linear = nn.Linear(256,128)\n",
    "        self.linear384 = nn.Linear(384,128)\n",
    "    def forward(self, input_,input_gmd,input_gld):\n",
    "#         print(\"__init__:input_\",input_)\n",
    "#         t = self.att(input_)\n",
    "#         s = self.tanh(t)\n",
    "\n",
    "        gd_md,attn_output_weights = self.multihead_attn(input_gmd,input_,input_)\n",
    "        gd_ld,attn_output_weights = self.multihead_attn(input_gld,input_,input_)\n",
    "        gd_mld = torch.cat((gd_md,gd_ld,input_),1)\n",
    "        gd_mld = self.linear384(gd_mld)\n",
    "#         input_con,attn_output_weights = self.multihead_attn(gd_mld,input_,input_)  \n",
    "#         input_ = torch.cat((gd_mld_con,input_con),1)\n",
    "#         input_ = self.linear(input_)\n",
    "        input_ = gd_mld\n",
    "        \n",
    "        s = self.tanh(input_)       #s= torch.Size([batch_size, 128])  alpha= torch.Size([batch_size, 128])\n",
    "        alpha = self.softmax(s)\n",
    "        x = torch.mul(alpha,input_)\n",
    "        a1 = self.fc1(x)\n",
    "        h1 = self.relu(a1)\n",
    "        dout = self.dout(h1)   # 损失率\n",
    "        a2 = self.fc2(dout)\n",
    "        h2 = self.relu(a2)\n",
    "        a3 = self.out(h2)\n",
    "        y = self.out_act(a3)\n",
    "        return y\n",
    "    \n",
    "    def predict(self,x,x_gmd,x_gld):        # 二分类预测。可改为排序\n",
    "        #Apply softmax to output. \n",
    "        pred = self.forward(x,x_gmd,x_gld)\n",
    "        ans = []\n",
    "        #Pick the class with maximum weight\n",
    "        for t in pred:\n",
    "            if t<0.5:\n",
    "                ans.append(0)\n",
    "            else:\n",
    "                ans.append(1)\n",
    "        return torch.tensor(ans)"
   ]
  },
  {
   "cell_type": "code",
   "execution_count": 6,
   "metadata": {},
   "outputs": [],
   "source": [
    "def train_cv(model, X, X_gmd, X_gld, y, opt, criterion, batch_size=64):   #文章为batch_size=50            训练集模型\n",
    "    model.train()\n",
    "    losses = []\n",
    "    for beg_i in range(0, X.size(0), batch_size):\n",
    "        x_batch = X[beg_i:beg_i + batch_size, :]\n",
    "        x_gmd_batch = X_gmd[beg_i:beg_i + batch_size, :]\n",
    "        x_gld_batch = X_gld[beg_i:beg_i + batch_size, :]\n",
    "        \n",
    "        y_batch = y[beg_i:beg_i + batch_size, :]\n",
    "        x_batch = Variable(x_batch)\n",
    "        x_gmd_batch = Variable(x_gmd_batch)\n",
    "        x_gld_batch = Variable(x_gld_batch)\n",
    "        y_batch = Variable(y_batch)\n",
    "\n",
    "        opt.zero_grad()\n",
    "        # (1) Forward\n",
    "        y_hat = clf(x_batch, x_gmd_batch, x_gld_batch)\n",
    "        # (2) Compute diff\n",
    "        loss = criterion(y_hat, y_batch)\n",
    "        # (3) Compute gradients\n",
    "        loss.backward()\n",
    "        # (4) update weights\n",
    "        opt.step()        \n",
    "        losses.append(loss.data.numpy())\n",
    "    avg_loss=sum(losses)/len(losses)\n",
    "    return losses,avg_loss"
   ]
  },
  {
   "cell_type": "code",
   "execution_count": 7,
   "metadata": {},
   "outputs": [],
   "source": [
    "def avg(l):\n",
    "    return sum(l)/len(l)\n",
    "\n",
    "def compute_aupr(y,yhat):\n",
    "    pre,rec,_ = precision_recall_curve(y,yhat)\n",
    "    return auc(rec,pre)\n",
    "def f1_score(precison, recall):\n",
    "    try:\n",
    "        return 2*precison*recall /(precison + recall)\n",
    "    except:\n",
    "        return 0.0"
   ]
  },
  {
   "cell_type": "markdown",
   "metadata": {},
   "source": [
    "## 以下求的值为：aucs,avg_pre,aupr,acc."
   ]
  },
  {
   "cell_type": "code",
   "execution_count": 60,
   "metadata": {
    "scrolled": true
   },
   "outputs": [
    {
     "name": "stdout",
     "output_type": "stream",
     "text": [
      "start ----------------------------------------------------------------------------------------------------\n",
      "Fold:1 Epoch:0/30 Train loss:0.466079\n",
      "Fold:1 Epoch:1/30 Train loss:0.419400\n",
      "Fold:1 Epoch:2/30 Train loss:0.398619\n",
      "Fold:1 Epoch:3/30 Train loss:0.370764\n",
      "Fold:1 Epoch:4/30 Train loss:0.359785\n",
      "Fold:1 Epoch:5/30 Train loss:0.348724\n",
      "Fold:1 Epoch:6/30 Train loss:0.350179\n",
      "Fold:1 Epoch:7/30 Train loss:0.343649\n",
      "Fold:1 Epoch:8/30 Train loss:0.350829\n",
      "Fold:1 Epoch:9/30 Train loss:0.341927\n",
      "Fold:1 Epoch:10/30 Train loss:0.328771\n",
      "Fold:1 Epoch:11/30 Train loss:0.320450\n",
      "Fold:1 Epoch:12/30 Train loss:0.334155\n",
      "Fold:1 Epoch:13/30 Train loss:0.327199\n",
      "Fold:1 Epoch:14/30 Train loss:0.321937\n",
      "Fold:1 Epoch:15/30 Train loss:0.309357\n",
      "Fold:1 Epoch:16/30 Train loss:0.311898\n",
      "Fold:1 Epoch:17/30 Train loss:0.303417\n",
      "Fold:1 Epoch:18/30 Train loss:0.307566\n",
      "Fold:1 Epoch:19/30 Train loss:0.301865\n",
      "Fold:1 Epoch:20/30 Train loss:0.291786\n",
      "Fold:1 Epoch:21/30 Train loss:0.292178\n",
      "Fold:1 Epoch:22/30 Train loss:0.297270\n",
      "Fold:1 Epoch:23/30 Train loss:0.300466\n",
      "Fold:1 Epoch:24/30 Train loss:0.284667\n",
      "Fold:1 Epoch:25/30 Train loss:0.282505\n",
      "Fold:1 Epoch:26/30 Train loss:0.279783\n",
      "Fold:1 Epoch:27/30 Train loss:0.280033\n",
      "Fold:1 Epoch:28/30 Train loss:0.284151\n",
      "Fold:1 Epoch:29/30 Train loss:0.278782\n",
      "Test accuracy:0.813953 \n",
      "\n",
      "Fold:2 Epoch:0/30 Train loss:0.472808\n",
      "Fold:2 Epoch:1/30 Train loss:0.418791\n",
      "Fold:2 Epoch:2/30 Train loss:0.399938\n",
      "Fold:2 Epoch:3/30 Train loss:0.373133\n",
      "Fold:2 Epoch:4/30 Train loss:0.369619\n",
      "Fold:2 Epoch:5/30 Train loss:0.361246\n",
      "Fold:2 Epoch:6/30 Train loss:0.347915\n",
      "Fold:2 Epoch:7/30 Train loss:0.343911\n",
      "Fold:2 Epoch:8/30 Train loss:0.348591\n",
      "Fold:2 Epoch:9/30 Train loss:0.341810\n",
      "Fold:2 Epoch:10/30 Train loss:0.345009\n",
      "Fold:2 Epoch:11/30 Train loss:0.325889\n",
      "Fold:2 Epoch:12/30 Train loss:0.338226\n",
      "Fold:2 Epoch:13/30 Train loss:0.344296\n",
      "Fold:2 Epoch:14/30 Train loss:0.319922\n",
      "Fold:2 Epoch:15/30 Train loss:0.323818\n",
      "Fold:2 Epoch:16/30 Train loss:0.326834\n",
      "Fold:2 Epoch:17/30 Train loss:0.338714\n",
      "Fold:2 Epoch:18/30 Train loss:0.339354\n",
      "Fold:2 Epoch:19/30 Train loss:0.329503\n",
      "Fold:2 Epoch:20/30 Train loss:0.319406\n",
      "Fold:2 Epoch:21/30 Train loss:0.331246\n",
      "Fold:2 Epoch:22/30 Train loss:0.321629\n",
      "Fold:2 Epoch:23/30 Train loss:0.299909\n",
      "Fold:2 Epoch:24/30 Train loss:0.299334\n",
      "Fold:2 Epoch:25/30 Train loss:0.302015\n",
      "Fold:2 Epoch:26/30 Train loss:0.306176\n",
      "Fold:2 Epoch:27/30 Train loss:0.300209\n",
      "Fold:2 Epoch:28/30 Train loss:0.301301\n",
      "Fold:2 Epoch:29/30 Train loss:0.306564\n",
      "Test accuracy:0.795524 \n",
      "\n",
      "Fold:3 Epoch:0/30 Train loss:0.486730\n",
      "Fold:3 Epoch:1/30 Train loss:0.428828\n",
      "Fold:3 Epoch:2/30 Train loss:0.408102\n",
      "Fold:3 Epoch:3/30 Train loss:0.392539\n",
      "Fold:3 Epoch:4/30 Train loss:0.366670\n",
      "Fold:3 Epoch:5/30 Train loss:0.368201\n",
      "Fold:3 Epoch:6/30 Train loss:0.368350\n",
      "Fold:3 Epoch:7/30 Train loss:0.376217\n",
      "Fold:3 Epoch:8/30 Train loss:0.373463\n",
      "Fold:3 Epoch:9/30 Train loss:0.373693\n",
      "Fold:3 Epoch:10/30 Train loss:0.367578\n",
      "Fold:3 Epoch:11/30 Train loss:0.377600\n",
      "Fold:3 Epoch:12/30 Train loss:0.378537\n",
      "Fold:3 Epoch:13/30 Train loss:0.366919\n",
      "Fold:3 Epoch:14/30 Train loss:0.354378\n",
      "Fold:3 Epoch:15/30 Train loss:0.346695\n",
      "Fold:3 Epoch:16/30 Train loss:0.347924\n",
      "Fold:3 Epoch:17/30 Train loss:0.357914\n",
      "Fold:3 Epoch:18/30 Train loss:0.349470\n",
      "Fold:3 Epoch:19/30 Train loss:0.351631\n",
      "Fold:3 Epoch:20/30 Train loss:0.360416\n",
      "Fold:3 Epoch:21/30 Train loss:0.355422\n",
      "Fold:3 Epoch:22/30 Train loss:0.350229\n",
      "Fold:3 Epoch:23/30 Train loss:0.356666\n",
      "Fold:3 Epoch:24/30 Train loss:0.351694\n",
      "Fold:3 Epoch:25/30 Train loss:0.358993\n",
      "Fold:3 Epoch:26/30 Train loss:0.353259\n",
      "Fold:3 Epoch:27/30 Train loss:0.353655\n",
      "Fold:3 Epoch:28/30 Train loss:0.343022\n",
      "Fold:3 Epoch:29/30 Train loss:0.335082\n",
      "Test accuracy:0.784460 \n",
      "\n",
      "Fold:4 Epoch:0/30 Train loss:0.473865\n",
      "Fold:4 Epoch:1/30 Train loss:0.409132\n",
      "Fold:4 Epoch:2/30 Train loss:0.378162\n",
      "Fold:4 Epoch:3/30 Train loss:0.360682\n",
      "Fold:4 Epoch:4/30 Train loss:0.362650\n",
      "Fold:4 Epoch:5/30 Train loss:0.344950\n",
      "Fold:4 Epoch:6/30 Train loss:0.351873\n",
      "Fold:4 Epoch:7/30 Train loss:0.330912\n",
      "Fold:4 Epoch:8/30 Train loss:0.337102\n",
      "Fold:4 Epoch:9/30 Train loss:0.331532\n",
      "Fold:4 Epoch:10/30 Train loss:0.332908\n",
      "Fold:4 Epoch:11/30 Train loss:0.321681\n",
      "Fold:4 Epoch:12/30 Train loss:0.325271\n",
      "Fold:4 Epoch:13/30 Train loss:0.324639\n",
      "Fold:4 Epoch:14/30 Train loss:0.319684\n",
      "Fold:4 Epoch:15/30 Train loss:0.317335\n",
      "Fold:4 Epoch:16/30 Train loss:0.318852\n",
      "Fold:4 Epoch:17/30 Train loss:0.313513\n",
      "Fold:4 Epoch:18/30 Train loss:0.315019\n",
      "Fold:4 Epoch:19/30 Train loss:0.311774\n",
      "Fold:4 Epoch:20/30 Train loss:0.312452\n",
      "Fold:4 Epoch:21/30 Train loss:0.317208\n",
      "Fold:4 Epoch:22/30 Train loss:0.310037\n",
      "Fold:4 Epoch:23/30 Train loss:0.302418\n",
      "Fold:4 Epoch:24/30 Train loss:0.317024\n",
      "Fold:4 Epoch:25/30 Train loss:0.304714\n",
      "Fold:4 Epoch:26/30 Train loss:0.301725\n",
      "Fold:4 Epoch:27/30 Train loss:0.295818\n",
      "Fold:4 Epoch:28/30 Train loss:0.288464\n",
      "Fold:4 Epoch:29/30 Train loss:0.293007\n",
      "Test accuracy:0.816506 \n",
      "\n",
      "Fold:5 Epoch:0/30 Train loss:0.486059\n",
      "Fold:5 Epoch:1/30 Train loss:0.431865\n",
      "Fold:5 Epoch:2/30 Train loss:0.406924\n",
      "Fold:5 Epoch:3/30 Train loss:0.395175\n",
      "Fold:5 Epoch:4/30 Train loss:0.390543\n",
      "Fold:5 Epoch:5/30 Train loss:0.390138\n",
      "Fold:5 Epoch:6/30 Train loss:0.370840\n",
      "Fold:5 Epoch:7/30 Train loss:0.367853\n",
      "Fold:5 Epoch:8/30 Train loss:0.366208\n",
      "Fold:5 Epoch:9/30 Train loss:0.370922\n",
      "Fold:5 Epoch:10/30 Train loss:0.360182\n",
      "Fold:5 Epoch:11/30 Train loss:0.351490\n",
      "Fold:5 Epoch:12/30 Train loss:0.348850\n",
      "Fold:5 Epoch:13/30 Train loss:0.357063\n",
      "Fold:5 Epoch:14/30 Train loss:0.369355\n",
      "Fold:5 Epoch:15/30 Train loss:0.359539\n",
      "Fold:5 Epoch:16/30 Train loss:0.347596\n",
      "Fold:5 Epoch:17/30 Train loss:0.355909\n",
      "Fold:5 Epoch:18/30 Train loss:0.354350\n",
      "Fold:5 Epoch:19/30 Train loss:0.361653\n",
      "Fold:5 Epoch:20/30 Train loss:0.353939\n",
      "Fold:5 Epoch:21/30 Train loss:0.356584\n",
      "Fold:5 Epoch:22/30 Train loss:0.358664\n",
      "Fold:5 Epoch:23/30 Train loss:0.417729\n",
      "Fold:5 Epoch:24/30 Train loss:0.384830\n",
      "Fold:5 Epoch:25/30 Train loss:0.361093\n",
      "Fold:5 Epoch:26/30 Train loss:0.360033\n",
      "Fold:5 Epoch:27/30 Train loss:0.360095\n",
      "Fold:5 Epoch:28/30 Train loss:0.366654\n",
      "Fold:5 Epoch:29/30 Train loss:0.352663\n",
      "Test accuracy:0.801580 \n",
      "\n",
      "AUC:0.802402 AUPR: 0.852577 Avg Pre: 0.743344 Accuracy: 0.802405 avr_f1_score: 0.771949 \n"
     ]
    }
   ],
   "source": [
    "aucs = []\n",
    "avg_pre = []\n",
    "aupr = []\n",
    "acc = []\n",
    "recal = []\n",
    "cv = StratifiedKFold(n_splits=5)                      #5折交叉验证  30个epochs\n",
    "num_epochs = 30\n",
    "fold_loss =[]\n",
    "\n",
    "# for i, (train,test) in enumerate(cv.split(X_gld_all, y_all)):\n",
    "#     print(X_gld_all[train])\n",
    "#     break\n",
    "# enumerate产生的生成器只能读取一次.\n",
    "gmd_list = []\n",
    "for i, (train,test) in enumerate(cv.split(X_gmd_all, y_all)):\n",
    "    gmd_list.append((train,test))\n",
    "gld_list = []\n",
    "for i, (train,test) in enumerate(cv.split(X_gld_all, y_all)):\n",
    "    gld_list.append((train,test))\n",
    "\n",
    "print(\"start\",'-'*100)\n",
    "for i, (train,test) in enumerate(cv.split(X_gd_all, y_all)):\n",
    "\n",
    "    clf = LDAClassifier(X_gd_all.size()[1],X_gmd_all.size()[1],X_gld_all.size()[1])                      #X_all = 训练集+测试集 =[11392, 128]    X_all.size()[1]=128\n",
    "    opt = optim.Adam(clf.parameters(), lr=0.01, betas=(0.9, 0.999),weight_decay=1e-5)\n",
    "    criterion = nn.BCELoss()\n",
    "    \n",
    "    e_losses = []\n",
    "    for e in range(num_epochs):\n",
    "        los,avg_loss = train_cv(clf,X_gd_all[train],X_gmd_all[train],X_gld_all[train],y_all[train],opt,criterion)        # clf-模型名称  avg_loss-每次Epoch输出的平均损失率\n",
    "        e_losses += [avg_loss]\n",
    "        print (\"Fold:%d Epoch:%d/%d Train loss:%f\" %(i+1,e,num_epochs,avg_loss))\n",
    "        \n",
    "    fold_loss.append(e_losses)                                  # fold_loss用来保存每次训练损失率\n",
    "    y_pred = clf.predict(X_gd_all[test], X_gmd_all[test], X_gld_all[test])\n",
    "    aucs.append(roc_auc_score(y_all[test],y_pred))              #aucs保存roc_auc_score的历史值\n",
    "    avg_pre.append(average_precision_score(y_all[test],y_pred)) #avg_pre保存average_precision_score平均精确度历史值\n",
    "    aupr.append(compute_aupr(y_all[test],y_pred)) \n",
    "    acc.append(accuracy_score(y_all[test],y_pred))\n",
    "    recal.append(recall_score(y_all[test],y_pred))\n",
    "    print(\"Test accuracy:%f \\n\" %acc[-1])\n",
    "#     break\n",
    "avr_f1_score = f1_score(avg(avg_pre), avg(recal))\n",
    "\n",
    "print (\"AUC:%f AUPR: %f Avg Pre: %f Accuracy: %f avr_f1_score: %f \" %(avg(aucs),avg(aupr),avg(avg_pre),avg(acc),avr_f1_score))"
   ]
  },
  {
   "cell_type": "code",
   "execution_count": 61,
   "metadata": {},
   "outputs": [
    {
     "data": {
      "image/png": "[encoded data removed]",
      "text/plain": [
       "<Figure size 432x288 with 1 Axes>"
      ]
     },
     "metadata": {
      "needs_background": "light"
     },
     "output_type": "display_data"
    }
   ],
   "source": [
    "for i in range(len(fold_loss)):\n",
    "    plt.plot(fold_loss[i],label='Fold'+str(i+1))\n",
    "plt.legend()\n",
    "plt.xlabel(\"Number of Epochs\")               #x轴标签  \n",
    "plt.ylabel(\"Average Loss\")                   #y轴标签  \n",
    "plt.savefig('data/att_learning_curve_gld.svg',dpi=300)\n",
    "plt.show()"
   ]
  },
  {
   "cell_type": "code",
   "execution_count": 154,
   "metadata": {},
   "outputs": [
    {
     "data": {
      "text/plain": [
       "30"
      ]
     },
     "execution_count": 154,
     "metadata": {},
     "output_type": "execute_result"
    }
   ],
   "source": [
    "len(e_losses)"
   ]
  },
  {
   "cell_type": "markdown",
   "metadata": {},
   "source": [
    "### 上面求的值为：fpr,tpr,aupr."
   ]
  },
  {
   "cell_type": "code",
   "execution_count": 149,
   "metadata": {},
   "outputs": [
    {
     "ename": "NameError",
     "evalue": "name 'X_all' is not defined",
     "output_type": "error",
     "traceback": [
      "\u001b[1;31m---------------------------------------------------------------------------\u001b[0m",
      "\u001b[1;31mNameError\u001b[0m                                 Traceback (most recent call last)",
      "\u001b[1;32m~\\AppData\\Local\\Temp\\ipykernel_68824\\740124523.py\u001b[0m in \u001b[0;36m<module>\u001b[1;34m\u001b[0m\n\u001b[0;32m      6\u001b[0m \u001b[0mnum_epochs\u001b[0m \u001b[1;33m=\u001b[0m \u001b[1;36m30\u001b[0m                                  \u001b[1;31m#num_epochs = 30 每折数据集训练30次\u001b[0m\u001b[1;33m\u001b[0m\u001b[1;33m\u001b[0m\u001b[0m\n\u001b[0;32m      7\u001b[0m \u001b[0mfold_loss\u001b[0m \u001b[1;33m=\u001b[0m\u001b[1;33m[\u001b[0m\u001b[1;33m]\u001b[0m\u001b[1;33m\u001b[0m\u001b[1;33m\u001b[0m\u001b[0m\n\u001b[1;32m----> 8\u001b[1;33m \u001b[1;32mfor\u001b[0m \u001b[0mi\u001b[0m\u001b[1;33m,\u001b[0m \u001b[1;33m(\u001b[0m\u001b[0mtrain\u001b[0m\u001b[1;33m,\u001b[0m\u001b[0mtest\u001b[0m\u001b[1;33m)\u001b[0m \u001b[1;32min\u001b[0m \u001b[0menumerate\u001b[0m\u001b[1;33m(\u001b[0m\u001b[0mcv\u001b[0m\u001b[1;33m.\u001b[0m\u001b[0msplit\u001b[0m\u001b[1;33m(\u001b[0m\u001b[0mX_all\u001b[0m\u001b[1;33m,\u001b[0m \u001b[0my_all\u001b[0m\u001b[1;33m)\u001b[0m\u001b[1;33m)\u001b[0m\u001b[1;33m:\u001b[0m\u001b[1;33m\u001b[0m\u001b[1;33m\u001b[0m\u001b[0m\n\u001b[0m\u001b[0;32m      9\u001b[0m     \u001b[0mclf\u001b[0m \u001b[1;33m=\u001b[0m \u001b[0mLDAClassifier\u001b[0m\u001b[1;33m(\u001b[0m\u001b[0mX_all\u001b[0m\u001b[1;33m.\u001b[0m\u001b[0msize\u001b[0m\u001b[1;33m(\u001b[0m\u001b[1;33m)\u001b[0m\u001b[1;33m[\u001b[0m\u001b[1;36m1\u001b[0m\u001b[1;33m]\u001b[0m\u001b[1;33m)\u001b[0m                  \u001b[1;31m# X_all.size()[1] = 256\u001b[0m\u001b[1;33m\u001b[0m\u001b[1;33m\u001b[0m\u001b[0m\n\u001b[0;32m     10\u001b[0m     \u001b[0mopt\u001b[0m \u001b[1;33m=\u001b[0m \u001b[0moptim\u001b[0m\u001b[1;33m.\u001b[0m\u001b[0mAdam\u001b[0m\u001b[1;33m(\u001b[0m\u001b[0mclf\u001b[0m\u001b[1;33m.\u001b[0m\u001b[0mparameters\u001b[0m\u001b[1;33m(\u001b[0m\u001b[1;33m)\u001b[0m\u001b[1;33m,\u001b[0m \u001b[0mlr\u001b[0m\u001b[1;33m=\u001b[0m\u001b[1;36m0.001\u001b[0m\u001b[1;33m,\u001b[0m \u001b[0mbetas\u001b[0m\u001b[1;33m=\u001b[0m\u001b[1;33m(\u001b[0m\u001b[1;36m0.9\u001b[0m\u001b[1;33m,\u001b[0m \u001b[1;36m0.999\u001b[0m\u001b[1;33m)\u001b[0m\u001b[1;33m,\u001b[0m\u001b[0mweight_decay\u001b[0m\u001b[1;33m=\u001b[0m\u001b[1;36m1e-5\u001b[0m\u001b[1;33m)\u001b[0m\u001b[1;33m\u001b[0m\u001b[1;33m\u001b[0m\u001b[0m\n",
      "\u001b[1;31mNameError\u001b[0m: name 'X_all' is not defined"
     ]
    }
   ],
   "source": [
    "#Plot ROC\n",
    "fpr_list=[]\n",
    "tpr_list=[]\n",
    "aucs=[]\n",
    "cv = StratifiedKFold(n_splits=5)                 # 5折交叉验证\n",
    "num_epochs = 30                                  #num_epochs = 30 每折数据集训练30次\n",
    "fold_loss =[]\n",
    "for i, (train,test) in enumerate(cv.split(X_all, y_all)):\n",
    "    clf = LDAClassifier(X_all.size()[1])                  # X_all.size()[1] = 256\n",
    "    opt = optim.Adam(clf.parameters(), lr=0.001, betas=(0.9, 0.999),weight_decay=1e-5)\n",
    "    criterion = nn.BCELoss()\n",
    "        \n",
    "    e_losses = []\n",
    "    for e in range(num_epochs):\n",
    "        los,avg_loss = train_cv(clf,X_all[train],y_all[train],opt,criterion)\n",
    "        e_losses += [avg_loss]\n",
    "        print (\"Fold:%d Epoch:%d/%d Train loss:%f\" %(i+1,e,num_epochs,avg_loss))\n",
    "    \n",
    "    fold_loss.append(e_losses)\n",
    "    y_pred = clf.predict(X_all[test])\n",
    "    fpr,tpr,_= roc_curve(y_all[test],y_pred)\n",
    "    fpr_list.append(fpr)\n",
    "    tpr_list.append(tpr)\n",
    "    aucs.append(roc_auc_score(y_all[test],y_pred))\n",
    "    print(\"Test accuracy:%f\" %acc[-1])\n",
    "    print('\\n')\n",
    "\n",
    "print (\"AUC:%f AUPR: %f Avg Pre: %f Accuracy: %f\" %(avg(aucs),avg(aupr),avg(avg_pre),avg(acc)))\n",
    "#return fold_loss"
   ]
  },
  {
   "cell_type": "code",
   "execution_count": null,
   "metadata": {},
   "outputs": [],
   "source": [
    "for i in range(len(aucs)):\n",
    "    plt.plot(fpr_list[i],tpr_list[i],label=\"Fold-\"+str(i+1)+\"(auc=\"+str(round(aucs[i],3))+\")\")\n",
    "    plt.legend()\n",
    "plt.xlabel('FPR')\n",
    "plt.ylabel('TPR')\n",
    "plt.title('ROC curves of DBNLDA')\n",
    "#plt.savefig('roc.jpeg',dpi=300)\n",
    "plt.savefig('./data/att_roc_gld.svg',dpi=300)\n",
    "plt.show()"
   ]
  },
  {
   "cell_type": "code",
   "execution_count": null,
   "metadata": {
    "collapsed": true
   },
   "outputs": [],
   "source": []
  }
 ],
 "metadata": {
  "kernelspec": {
   "display_name": "Python [conda env:deeplearn] *",
   "language": "python",
   "name": "conda-env-deeplearn-py"
  },
  "language_info": {
   "codemirror_mode": {
    "name": "ipython",
    "version": 3
   },
   "file_extension": ".py",
   "mimetype": "text/x-python",
   "name": "python",
   "nbconvert_exporter": "python",
   "pygments_lexer": "ipython3",
   "version": "3.7.13"
  }
 },
 "nbformat": 4,
 "nbformat_minor": 4
}
